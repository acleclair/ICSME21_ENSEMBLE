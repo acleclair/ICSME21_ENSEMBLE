{
 "cells": [
  {
   "cell_type": "markdown",
   "id": "linear-separate",
   "metadata": {},
   "source": [
    "# Ensemble Model Notebook 1\n",
    "\n",
    "## P90 Models\n",
    "* 3 Random initialization seeds (1337, 565656, 12345)\n",
    "* Path to each model is /scratch/funcomdev/p90/seed_{seed}/{modeltype}_E{epoch}_VA{valacc}_{seed}.h5\n",
    "\n",
    "\n",
    "|Model   |Seed   |BA    |B1    |B2    |B3    |B4    |\n",
    "| ------ |------|------|------|------|------|------|\n",
    "|attendgru|1337|\n",
    "|attendgru|565656|\n",
    "|attendgru|12345|\n",
    "|ast-attendgru-flat|1337|\n",
    "|ast-attendgru-flat|565656|\n",
    "|ast-attendgru-flat|12345|\n",
    "\n",
    "\n",
    "##### TODO\n",
    "|ast-attendgru-GNN|\n",
    "\n",
    "|ast-attendgru-FC|\n",
    "\n",
    "other baselines?\n",
    "\n",
    "## Full Models\n",
    "\n",
    "* Same as above\n",
    "* Path to each model is /scratch/funcomdev/full_data/{modeltype}_E{epoch}_VA{valacc}_{seed}.h5\n",
    "\n",
    "|Model   |Seed   |BA    |B1    |B2    |B3    |B4    |\n",
    "| ------ |------|------|------|------|------|------|\n",
    "|attendgru|1337|\n",
    "|attendgru|565656|\n",
    "|attendgru|12345|\n",
    "|ast-attendgru-flat|1337|\n",
    "|ast-attendgru-flat|565656|\n",
    "|ast-attendgru-flat|12345|\n",
    "\n",
    "##### TODO\n",
    "|ast-attendgru-GNN|\n",
    "\n",
    "|ast-attendgru-FC|\n",
    "\n",
    "other baselines?"
   ]
  },
  {
   "cell_type": "markdown",
   "id": "oriented-great",
   "metadata": {},
   "source": [
    "### Analysis\n",
    "\n",
    "###### Ideas for analyzing and comparing our models:"
   ]
  },
  {
   "cell_type": "markdown",
   "id": "posted-bennett",
   "metadata": {},
   "source": [
    "### Ensembles\n",
    "\n",
    "###### Ideas for ensembling our models\n",
    "\n",
    "* Simple\n",
    "    * sum/average n model outputs at each time step (baseline)\n",
    "    * some form of bagging - select N random small subsets of data and train N models and combine output\n",
    "\n",
    "* Advanced"
   ]
  },
  {
   "cell_type": "code",
   "execution_count": null,
   "id": "clear-qatar",
   "metadata": {},
   "outputs": [],
   "source": []
  }
 ],
 "metadata": {
  "kernelspec": {
   "display_name": "Python 3",
   "language": "python",
   "name": "python3"
  },
  "language_info": {
   "codemirror_mode": {
    "name": "ipython",
    "version": 3
   },
   "file_extension": ".py",
   "mimetype": "text/x-python",
   "name": "python",
   "nbconvert_exporter": "python",
   "pygments_lexer": "ipython3",
   "version": "3.6.9"
  }
 },
 "nbformat": 4,
 "nbformat_minor": 5
}
